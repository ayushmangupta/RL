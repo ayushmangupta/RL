{
  "nbformat": 4,
  "nbformat_minor": 0,
  "metadata": {
    "colab": {
      "name": "Reinforcement Learning-Part.1.Numpy.ipynb",
      "version": "0.3.2",
      "provenance": [],
      "include_colab_link": true
    },
    "kernelspec": {
      "name": "python3",
      "display_name": "Python 3"
    }
  },
  "cells": [
    {
      "cell_type": "markdown",
      "metadata": {
        "id": "view-in-github",
        "colab_type": "text"
      },
      "source": [
        "<a href=\"https://colab.research.google.com/github/ayushmangupta/RL/blob/master/Reinforcement_Learning_Part_1_Numpy.ipynb\" target=\"_parent\"><img src=\"https://colab.research.google.com/assets/colab-badge.svg\" alt=\"Open In Colab\"/></a>"
      ]
    },
    {
      "metadata": {
        "id": "FuMcKfM3Aafi",
        "colab_type": "code",
        "colab": {}
      },
      "cell_type": "code",
      "source": [
        "import numpy as np\n"
      ],
      "execution_count": 0,
      "outputs": []
    },
    {
      "metadata": {
        "id": "VZzxwsK6AloU",
        "colab_type": "code",
        "colab": {}
      },
      "cell_type": "code",
      "source": [
        "v = np.array([[1.0,0.0]])\n",
        "T = np.array([[.9,.1],[0.5,0.5]])"
      ],
      "execution_count": 0,
      "outputs": []
    },
    {
      "metadata": {
        "id": "U-eatxh4BDoN",
        "colab_type": "code",
        "colab": {
          "base_uri": "https://localhost:8080/",
          "height": 187
        },
        "outputId": "4d324cf1-2215-4f0b-f7cb-383abc84787a"
      },
      "cell_type": "code",
      "source": [
        "T_2 = np.linalg.matrix_power(T,2)\n",
        "print(\"T2\" ,T_2)\n",
        "\n",
        "T_3 = np.linalg.matrix_power(T,3)\n",
        "print(\"T3\" ,T_3)\n",
        "\n",
        "\n",
        "T_50 = np.linalg.matrix_power(T,50)\n",
        "print(\"T10 \\n\" ,T_50)\n",
        "\n",
        "\n",
        "T_100 = np.linalg.matrix_power(T,100)\n",
        "print(\"T100  \\n\" ,T_100)"
      ],
      "execution_count": 22,
      "outputs": [
        {
          "output_type": "stream",
          "text": [
            "T2 [[0.86 0.14]\n",
            " [0.7  0.3 ]]\n",
            "T3 [[0.844 0.156]\n",
            " [0.78  0.22 ]]\n",
            "T10 \n",
            " [[0.83333333 0.16666667]\n",
            " [0.83333333 0.16666667]]\n",
            "T100  \n",
            " [[0.83333333 0.16666667]\n",
            " [0.83333333 0.16666667]]\n"
          ],
          "name": "stdout"
        }
      ]
    },
    {
      "metadata": {
        "id": "q06frsulBN-8",
        "colab_type": "code",
        "colab": {
          "base_uri": "https://localhost:8080/",
          "height": 85
        },
        "outputId": "956a8837-7d72-447f-feed-f5fe13502590"
      },
      "cell_type": "code",
      "source": [
        "print(\"v_2\",np.dot(v,T_2))\n",
        "print(\"v_3\",np.dot(v,T_3))\n",
        "print(\"v_50\",np.dot(v,T_50))\n",
        "print(\"v_100\",np.dot(v,T_100))"
      ],
      "execution_count": 24,
      "outputs": [
        {
          "output_type": "stream",
          "text": [
            "v_2 [[0.86 0.14]]\n",
            "v_3 [[0.844 0.156]]\n",
            "v_50 [[0.83333333 0.16666667]]\n",
            "v_100 [[0.83333333 0.16666667]]\n"
          ],
          "name": "stdout"
        }
      ]
    },
    {
      "metadata": {
        "id": "FIluvzuxF8rZ",
        "colab_type": "code",
        "colab": {}
      },
      "cell_type": "code",
      "source": [
        ""
      ],
      "execution_count": 0,
      "outputs": []
    }
  ]
}